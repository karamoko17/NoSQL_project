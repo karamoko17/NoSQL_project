{
 "cells": [
  {
   "cell_type": "markdown",
   "metadata": {},
   "source": [
    "# Redis tutorial"
   ]
  },
  {
   "cell_type": "markdown",
   "metadata": {},
   "source": [
    "## Prerequisites"
   ]
  },
  {
   "cell_type": "markdown",
   "metadata": {},
   "source": [
    "### Documentation\n",
    "\n",
    "You will find all documentation for :\n",
    "* [Redis commands](https://redis.io/commands)\n",
    "* [Redis python client](https://redis-py.readthedocs.io/en/latest/)\n",
    "\n",
    "Though the tutorial asks you to use Redis commands, they all have an equivalent in the Python client library."
   ]
  },
  {
   "cell_type": "markdown",
   "metadata": {},
   "source": [
    "### Import libraries"
   ]
  },
  {
   "cell_type": "code",
   "execution_count": 31,
   "metadata": {},
   "outputs": [],
   "source": [
    "import redis"
   ]
  },
  {
   "cell_type": "code",
   "execution_count": 32,
   "metadata": {},
   "outputs": [],
   "source": [
    "r = redis.Redis(host='localhost', port=6379)"
   ]
  },
  {
   "cell_type": "code",
   "execution_count": 33,
   "metadata": {},
   "outputs": [
    {
     "name": "stdout",
     "output_type": "stream",
     "text": [
      "b'bar'\n"
     ]
    }
   ],
   "source": [
    "r.set('foo', 'bar')\n",
    "value = r.get('foo')\n",
    "print(value)"
   ]
  },
  {
   "cell_type": "markdown",
   "metadata": {},
   "source": [
    "You can launch a terminal aside, connect to your server with a Redis client and check that the value is still present :\n",
    "\n",
    "```bash\n",
    "vagrant@nosql:~$ redis-cli\n",
    "127.0.0.1:6379> get foo\n",
    "\"bar\"\n",
    "```"
   ]
  },
  {
   "cell_type": "markdown",
   "metadata": {},
   "source": [
    "## I. Quick start"
   ]
  },
  {
   "cell_type": "markdown",
   "metadata": {},
   "source": [
    "### Strings and numbers"
   ]
  },
  {
   "cell_type": "markdown",
   "metadata": {},
   "source": [
    "**Q** : Store the string `hello world` in key `greetings` with a `SET` command. Then use a `GET` command to retrieve it."
   ]
  },
  {
   "cell_type": "code",
   "execution_count": 34,
   "metadata": {},
   "outputs": [
    {
     "name": "stdout",
     "output_type": "stream",
     "text": [
      "b'hello world'\n"
     ]
    }
   ],
   "source": [
    "r.set('greetings', 'hello world')\n",
    "value = r.get('greetings')\n",
    "print(value)\n"
   ]
  },
  {
   "cell_type": "markdown",
   "metadata": {},
   "source": [
    "**Q** : Create a `connections` key with value 0. Find the `INCR` command to increment its value, then display it. \n",
    "\n",
    "Try to increment the value for `greetings`."
   ]
  },
  {
   "cell_type": "code",
   "execution_count": 35,
   "metadata": {},
   "outputs": [
    {
     "name": "stdout",
     "output_type": "stream",
     "text": [
      "b'1'\n"
     ]
    }
   ],
   "source": [
    "r.set('connections', 0)\n",
    "r.incr('connections')\n",
    "value = r.get('connections')\n",
    "print(value)"
   ]
  },
  {
   "cell_type": "code",
   "execution_count": 36,
   "metadata": {},
   "outputs": [],
   "source": [
    "#Try to increment the value for `greetings`.\n",
    "\n",
    "#r.incr('greetings')\n",
    "#value = r.get('greetings')\n",
    "#print(value)\n",
    "## Note that the value for `greetings` is not an integer, so it cannot be incremented."
   ]
  },
  {
   "cell_type": "markdown",
   "metadata": {},
   "source": [
    "### Lists"
   ]
  },
  {
   "cell_type": "markdown",
   "metadata": {},
   "source": [
    "**Q** : Create a `colors` list with strings `red`, `black` and `blue`, using the `RPUSH` command."
   ]
  },
  {
   "cell_type": "code",
   "execution_count": 37,
   "metadata": {},
   "outputs": [
    {
     "name": "stdout",
     "output_type": "stream",
     "text": [
      "[b'red', b'black', b'blue', b'red', b'black', b'blue']\n"
     ]
    }
   ],
   "source": [
    "r.rpush('colors', 'red')\n",
    "r.rpush('colors', 'black')\n",
    "r.rpush('colors', 'blue')\n",
    "value = r.lrange('colors', 0, -1)\n",
    "print(value)"
   ]
  },
  {
   "cell_type": "markdown",
   "metadata": {},
   "source": [
    "**Q** : Display the second element of the list with `LINDEX`"
   ]
  },
  {
   "cell_type": "code",
   "execution_count": 38,
   "metadata": {},
   "outputs": [
    {
     "name": "stdout",
     "output_type": "stream",
     "text": [
      "b'black'\n"
     ]
    }
   ],
   "source": [
    "value = r.lindex('colors', 1)\n",
    "print(value)"
   ]
  },
  {
   "cell_type": "markdown",
   "metadata": {},
   "source": [
    "**Q** : Display the full list with `LRANGE`"
   ]
  },
  {
   "cell_type": "code",
   "execution_count": 39,
   "metadata": {},
   "outputs": [
    {
     "name": "stdout",
     "output_type": "stream",
     "text": [
      "[b'red', b'black', b'blue', b'red', b'black', b'blue']\n"
     ]
    }
   ],
   "source": [
    "value = r.lrange('colors', 0, -1)\n",
    "print(value)"
   ]
  },
  {
   "cell_type": "markdown",
   "metadata": {},
   "source": [
    "### Using sets"
   ]
  },
  {
   "cell_type": "markdown",
   "metadata": {},
   "source": [
    "**Q** : Create a `nosql` set containing values `redis`, `mongodb` and `orientdb`, using the `SADD` command."
   ]
  },
  {
   "cell_type": "code",
   "execution_count": 40,
   "metadata": {},
   "outputs": [
    {
     "name": "stdout",
     "output_type": "stream",
     "text": [
      "{b'orientdb', b'mongodb', b'hbase', b'redis'}\n"
     ]
    }
   ],
   "source": [
    "r.sadd('nosql', 'redis')\n",
    "r.sadd('nosql', 'mongodb')\n",
    "r.sadd('nosql', 'orientdb')\n",
    "\n",
    "value = r.smembers('nosql')\n",
    "print(value)\n"
   ]
  },
  {
   "cell_type": "markdown",
   "metadata": {},
   "source": [
    "**Q** : Test if `mysql` is inside the set, using `SISMEMBER`"
   ]
  },
  {
   "cell_type": "code",
   "execution_count": 41,
   "metadata": {},
   "outputs": [
    {
     "name": "stdout",
     "output_type": "stream",
     "text": [
      "0\n"
     ]
    }
   ],
   "source": [
    "value = r.sismember('nosql', 'mysql')\n",
    "print(value)"
   ]
  },
  {
   "cell_type": "markdown",
   "metadata": {},
   "source": [
    "**Q** : Add `hbase` to the set with `SADD`, then display all elements of the set with `SMEMBERS`. Try to add `redis` again and see what happens."
   ]
  },
  {
   "cell_type": "code",
   "execution_count": 42,
   "metadata": {},
   "outputs": [
    {
     "name": "stdout",
     "output_type": "stream",
     "text": [
      "{b'orientdb', b'mongodb', b'hbase', b'redis'}\n"
     ]
    }
   ],
   "source": [
    "r.sadd('nosql', 'hbase')\n",
    "value = r.smembers('nosql')\n",
    "print(value)"
   ]
  },
  {
   "cell_type": "code",
   "execution_count": 43,
   "metadata": {},
   "outputs": [
    {
     "name": "stdout",
     "output_type": "stream",
     "text": [
      "{b'orientdb', b'mongodb', b'hbase', b'redis'}\n"
     ]
    }
   ],
   "source": [
    "# Try to add `redis` again and see what happens.\n",
    "r.sadd('nosql', 'redis')\n",
    "value = r.smembers('nosql')\n",
    "print(value)"
   ]
  },
  {
   "cell_type": "markdown",
   "metadata": {},
   "source": [
    "### Using sorted sets\n",
    "\n",
    "Sorted Sets are similar to Redis Sets with the unique feature of values stored in a set. The difference is, every member of a Sorted Set is associated with a score, that is used in order to take the sorted set ordered, from the smallest to the greatest score."
   ]
  },
  {
   "cell_type": "markdown",
   "metadata": {},
   "source": [
    "**Q** : Using `ZADD`, create a sorted set `top14` with the following entries :\n",
    "\n",
    "```\n",
    "score city\n",
    "10 Agen \n",
    "33 Bordeaux \n",
    "32 Brive \n",
    "29 Castres \n",
    "38 Clermont \n",
    "24 Grenoble \n",
    "26 La Rochelle \n",
    "32 Montpellier \n",
    "14 Oyonnax \n",
    "20 Pau \n",
    "40 Racing \n",
    "22 Stade Français \n",
    "36 Toulon \n",
    "36 Toulouse\n",
    "```"
   ]
  },
  {
   "cell_type": "code",
   "execution_count": 44,
   "metadata": {},
   "outputs": [
    {
     "data": {
      "text/plain": [
       "0"
      ]
     },
     "execution_count": 44,
     "metadata": {},
     "output_type": "execute_result"
    }
   ],
   "source": [
    "\"\"\"\n",
    "score city\n",
    "10 Agen \n",
    "33 Bordeaux \n",
    "32 Brive \n",
    "29 Castres \n",
    "38 Clermont \n",
    "24 Grenoble \n",
    "26 La Rochelle \n",
    "32 Montpellier \n",
    "14 Oyonnax \n",
    "20 Pau \n",
    "40 Racing \n",
    "22 Stade Français \n",
    "36 Toulon \n",
    "36 Toulouse\n",
    "\"\"\"\n",
    "\n",
    "r.zadd('top14', {'Agen': 10, 'Bordeaux': 33, 'Brive': 32, 'Castres': 29, 'Clermont': 38, 'Grenoble': 24, 'La Rochelle': 26, 'Montpellier': 32, 'Oyonnax': 14, 'Pau': 20, 'Racing': 40, 'Stade Français': 22, 'Toulon': 36, 'Toulouse': 36})"
   ]
  },
  {
   "cell_type": "markdown",
   "metadata": {},
   "source": [
    "**Q** : Fetch the score for `Toulon` with `ZSCORE`, and its ranking with `ZRANK`."
   ]
  },
  {
   "cell_type": "code",
   "execution_count": 45,
   "metadata": {},
   "outputs": [
    {
     "name": "stdout",
     "output_type": "stream",
     "text": [
      "36.0\n"
     ]
    }
   ],
   "source": [
    "value = r.zscore('top14', 'Toulon')\n",
    "print(value)"
   ]
  },
  {
   "cell_type": "markdown",
   "metadata": {},
   "source": [
    "**Q** : `ZRANK` starts at 0 and scores are sorted from lowest to highest, so we should use the `ZREVRANK` for a true ranking of our cities."
   ]
  },
  {
   "cell_type": "code",
   "execution_count": 46,
   "metadata": {},
   "outputs": [
    {
     "name": "stdout",
     "output_type": "stream",
     "text": [
      "3\n"
     ]
    }
   ],
   "source": [
    "value = r.zrevrank('top14', 'Toulon')\n",
    "print(value)"
   ]
  },
  {
   "cell_type": "markdown",
   "metadata": {},
   "source": [
    "**Q** : Find the commands to display :\n",
    "* the 3 best teams\n",
    "* teams with more than 35 points"
   ]
  },
  {
   "cell_type": "code",
   "execution_count": 47,
   "metadata": {},
   "outputs": [
    {
     "name": "stdout",
     "output_type": "stream",
     "text": [
      "[(b'Racing', 40.0), (b'Clermont', 38.0), (b'Toulouse', 36.0)]\n"
     ]
    }
   ],
   "source": [
    "#the 3 best teams\n",
    "value = r.zrevrange('top14', 0, 2, withscores=True)\n",
    "print(value)"
   ]
  },
  {
   "cell_type": "code",
   "execution_count": 48,
   "metadata": {},
   "outputs": [
    {
     "name": "stdout",
     "output_type": "stream",
     "text": [
      "[(b'Toulon', 36.0), (b'Toulouse', 36.0), (b'Clermont', 38.0), (b'Racing', 40.0)]\n"
     ]
    }
   ],
   "source": [
    "#teams with more than 35 points\n",
    "value = r.zrangebyscore('top14', 35, 50, withscores=True)\n",
    "print(value)"
   ]
  },
  {
   "cell_type": "markdown",
   "metadata": {},
   "source": [
    "### Using dictionaries"
   ]
  },
  {
   "cell_type": "markdown",
   "metadata": {},
   "source": [
    "**Q** : Create a dictionary `user:1` with `HMSET` with properties `id (1), name (Jean), age (22)`. Display it with `HGETALL`"
   ]
  },
  {
   "cell_type": "code",
   "execution_count": 49,
   "metadata": {},
   "outputs": [
    {
     "name": "stdout",
     "output_type": "stream",
     "text": [
      "True\n"
     ]
    },
    {
     "name": "stderr",
     "output_type": "stream",
     "text": [
      "C:\\Users\\karam\\AppData\\Local\\Temp\\ipykernel_10308\\2890713463.py:1: DeprecationWarning: Redis.hmset() is deprecated. Use Redis.hset() instead.\n",
      "  value = r.hmset('user:1', {'id': 1, 'name': 'Jean', 'age': 22})\n"
     ]
    }
   ],
   "source": [
    "value = r.hmset('user:1', {'id': 1, 'name': 'Jean', 'age': 22})\n",
    "print(value)"
   ]
  },
  {
   "cell_type": "markdown",
   "metadata": {},
   "source": [
    "**Q** : Add a `city (Lyon)` property and rename the user from `Jean` to `Paul`."
   ]
  },
  {
   "cell_type": "code",
   "execution_count": 50,
   "metadata": {},
   "outputs": [
    {
     "name": "stdout",
     "output_type": "stream",
     "text": [
      "{b'id': b'1', b'name': b'Jean', b'age': b'22', b'city': b'Lyon'}\n"
     ]
    }
   ],
   "source": [
    "#for Jean\n",
    "r.hset('user:1', 'city', 'Lyon')\n",
    "value1 = r.hgetall('user:1')\n",
    "print(value1)"
   ]
  },
  {
   "cell_type": "code",
   "execution_count": 51,
   "metadata": {},
   "outputs": [
    {
     "name": "stdout",
     "output_type": "stream",
     "text": [
      "{b'id': b'1', b'name': b'Paul', b'age': b'22', b'city': b'Lyon'}\n"
     ]
    }
   ],
   "source": [
    "#for Paul\n",
    "r.hset('user:1', 'name', 'Paul')\n",
    "value2 = r.hgetall('user:1')\n",
    "print(value2)"
   ]
  },
  {
   "cell_type": "markdown",
   "metadata": {},
   "source": [
    "## Modelling a query cache with Redis\n",
    "\n",
    "You are modeling data from a REST query cache system with Redis.\n",
    "A request is identified by the http method and its url (without the protocol).\n",
    "The content of the request is stored as it is to be returned on demand."
   ]
  },
  {
   "cell_type": "markdown",
   "metadata": {},
   "source": [
    "**Q** : Insert a PUT request in the cache on http://my-api.fr/user/10 whose answer is {\"id\": 10, \"name\": \"jean\"}"
   ]
  },
  {
   "cell_type": "code",
   "execution_count": 52,
   "metadata": {},
   "outputs": [
    {
     "name": "stdout",
     "output_type": "stream",
     "text": [
      "b'{\"id\": 10, \"name\": \"jean\"}'\n"
     ]
    }
   ],
   "source": [
    "r.set('http://my-api.fr/user/10', '{\"id\": 10, \"name\": \"jean\"}')\n",
    "\n",
    "value = r.get('http://my-api.fr/user/10')\n",
    "print(value)"
   ]
  },
  {
   "cell_type": "markdown",
   "metadata": {},
   "source": [
    "**Q** : Insert a GET request in the cache on http://my-api.fr/user?size=2 whose answer is[{\"id\": 10, \"name\": jean}, {\"id\": 11, \"name\": \"Claire\"}]"
   ]
  },
  {
   "cell_type": "code",
   "execution_count": 53,
   "metadata": {},
   "outputs": [
    {
     "name": "stdout",
     "output_type": "stream",
     "text": [
      "b'[{\"id\": 10, \"name\": \"jean\"}, {\"id\": 11, \"name\": \"Claire\"}]'\n"
     ]
    }
   ],
   "source": [
    "r.set('http://my-api.fr/user?size=2', '[{\"id\": 10, \"name\": \"jean\"}, {\"id\": 11, \"name\": \"Claire\"}]')\n",
    "value = r.get('http://my-api.fr/user?size=2')\n",
    "print(value)"
   ]
  },
  {
   "cell_type": "markdown",
   "metadata": {},
   "source": [
    "**Q** : Create a set of cache request keys."
   ]
  },
  {
   "cell_type": "code",
   "execution_count": 54,
   "metadata": {},
   "outputs": [
    {
     "name": "stdout",
     "output_type": "stream",
     "text": [
      "{b'http://my-api.fr/user?size=2', b'http://my-api.fr/user/10'}\n"
     ]
    }
   ],
   "source": [
    "r.sadd('cache_requests', 'http://my-api.fr/user/10')\n",
    "r.sadd('cache_requests', 'http://my-api.fr/user?size=2')\n",
    "value = r.smembers('cache_requests')\n",
    "print(value)"
   ]
  },
  {
   "cell_type": "markdown",
   "metadata": {},
   "source": [
    "**Q** : Check if the GET request on http: //http://my-api.fr/user"
   ]
  },
  {
   "cell_type": "code",
   "execution_count": 55,
   "metadata": {},
   "outputs": [
    {
     "name": "stdout",
     "output_type": "stream",
     "text": [
      "0\n"
     ]
    }
   ],
   "source": [
    "value = r.sismember('cache_requests', 'http://my-api.fr/user')\n",
    "print(value)"
   ]
  },
  {
   "cell_type": "markdown",
   "metadata": {},
   "source": [
    "**Q** : Delete the PUT request on http://my-api.fr/user/10 from the cache."
   ]
  },
  {
   "cell_type": "code",
   "execution_count": 56,
   "metadata": {},
   "outputs": [
    {
     "name": "stdout",
     "output_type": "stream",
     "text": [
      "{b'http://my-api.fr/user?size=2', b'http://my-api.fr/user/10'}\n"
     ]
    }
   ],
   "source": [
    "r.delete('http://my-api.fr/user/10')\n",
    "value = r.smembers('cache_requests')\n",
    "print(value)"
   ]
  },
  {
   "cell_type": "markdown",
   "metadata": {},
   "source": [
    "## Postquisites\n",
    "\n",
    "The folloinwg command removes all data from your Redis cluster."
   ]
  },
  {
   "cell_type": "code",
   "execution_count": 57,
   "metadata": {},
   "outputs": [
    {
     "name": "stderr",
     "output_type": "stream",
     "text": [
      "'redis-cli' n'est pas reconnu en tant que commande interne\n",
      "ou externe, un programme ex�cutable ou un fichier de commandes.\n"
     ]
    }
   ],
   "source": [
    "!redis-cli flushall"
   ]
  }
 ],
 "metadata": {
  "kernelspec": {
   "display_name": "nosql",
   "language": "python",
   "name": "python3"
  },
  "language_info": {
   "codemirror_mode": {
    "name": "ipython",
    "version": 3
   },
   "file_extension": ".py",
   "mimetype": "text/x-python",
   "name": "python",
   "nbconvert_exporter": "python",
   "pygments_lexer": "ipython3",
   "version": "3.12.8"
  }
 },
 "nbformat": 4,
 "nbformat_minor": 2
}
