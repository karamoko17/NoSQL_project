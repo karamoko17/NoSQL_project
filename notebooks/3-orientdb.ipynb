{
 "cells": [
  {
   "cell_type": "markdown",
   "metadata": {},
   "source": [
    "# OrientDB tutorial"
   ]
  },
  {
   "cell_type": "markdown",
   "metadata": {},
   "source": [
    "## Prerequisites"
   ]
  },
  {
   "cell_type": "markdown",
   "metadata": {},
   "source": [
    "### Documentation\n",
    "\n",
    "You will find all documentation for :\n",
    "* [OrientDB SQL reference](http://www.orientdb.com/docs/last/SQL-Functions.html)\n",
    "* [Orientdb python client](http://orientdb.com/docs/last/PyOrient-Client.html#working-with-the-client)"
   ]
  },
  {
   "cell_type": "markdown",
   "metadata": {},
   "source": [
    "## Import libraries"
   ]
  },
  {
   "cell_type": "code",
   "execution_count": 53,
   "metadata": {},
   "outputs": [],
   "source": [
    "import pyorient"
   ]
  },
  {
   "cell_type": "code",
   "execution_count": 54,
   "metadata": {},
   "outputs": [],
   "source": [
    "ROOT_PASSWORD = \"root\"\n",
    "client = pyorient.OrientDB(\"localhost\", 2424)\n",
    "session_id = client.connect(\"root\", ROOT_PASSWORD)"
   ]
  },
  {
   "cell_type": "code",
   "execution_count": 55,
   "metadata": {},
   "outputs": [
    {
     "name": "stdout",
     "output_type": "stream",
     "text": [
      "{{'databases': {}}}\n"
     ]
    }
   ],
   "source": [
    "print(client.db_list())"
   ]
  },
  {
   "cell_type": "markdown",
   "metadata": {},
   "source": [
    "## I. Quick start"
   ]
  },
  {
   "cell_type": "markdown",
   "metadata": {},
   "source": [
    "### Creating the database"
   ]
  },
  {
   "cell_type": "markdown",
   "metadata": {},
   "source": [
    "**Q:** Create a database `gods` as a `GRAPH_DATABASE` in `MEMORY_STORAGE_TYPE`. \n",
    "\n",
    "We will use it to store relationships between Greek deities."
   ]
  },
  {
   "cell_type": "code",
   "execution_count": 56,
   "metadata": {},
   "outputs": [],
   "source": [
    "client.db_create(\"gods\", pyorient.DB_TYPE_GRAPH, pyorient.STORAGE_TYPE_MEMORY)"
   ]
  },
  {
   "cell_type": "markdown",
   "metadata": {},
   "source": [
    "**Q:** Connect your pyorient client to the `gods` database."
   ]
  },
  {
   "cell_type": "code",
   "execution_count": 57,
   "metadata": {},
   "outputs": [
    {
     "data": {
      "text/plain": [
       "[<pyorient.otypes.OrientCluster at 0x28575642390>,\n",
       " <pyorient.otypes.OrientCluster at 0x28575634dd0>,\n",
       " <pyorient.otypes.OrientCluster at 0x28575636270>,\n",
       " <pyorient.otypes.OrientCluster at 0x285755f1e80>,\n",
       " <pyorient.otypes.OrientCluster at 0x285755f0b90>,\n",
       " <pyorient.otypes.OrientCluster at 0x285755f1dc0>,\n",
       " <pyorient.otypes.OrientCluster at 0x285755f1850>,\n",
       " <pyorient.otypes.OrientCluster at 0x285755f2930>,\n",
       " <pyorient.otypes.OrientCluster at 0x285755f1e50>,\n",
       " <pyorient.otypes.OrientCluster at 0x285755f0890>,\n",
       " <pyorient.otypes.OrientCluster at 0x285755f3260>,\n",
       " <pyorient.otypes.OrientCluster at 0x285755f32f0>,\n",
       " <pyorient.otypes.OrientCluster at 0x285755f04a0>,\n",
       " <pyorient.otypes.OrientCluster at 0x285755f0ce0>,\n",
       " <pyorient.otypes.OrientCluster at 0x285755f3590>,\n",
       " <pyorient.otypes.OrientCluster at 0x285755f2990>,\n",
       " <pyorient.otypes.OrientCluster at 0x285755f09b0>,\n",
       " <pyorient.otypes.OrientCluster at 0x285755b1c70>,\n",
       " <pyorient.otypes.OrientCluster at 0x285756d2c60>,\n",
       " <pyorient.otypes.OrientCluster at 0x285756d3b00>,\n",
       " <pyorient.otypes.OrientCluster at 0x285756d3f50>,\n",
       " <pyorient.otypes.OrientCluster at 0x285756d3fe0>,\n",
       " <pyorient.otypes.OrientCluster at 0x285756d37d0>,\n",
       " <pyorient.otypes.OrientCluster at 0x285756d3230>,\n",
       " <pyorient.otypes.OrientCluster at 0x285756d2570>]"
      ]
     },
     "execution_count": 57,
     "metadata": {},
     "output_type": "execute_result"
    }
   ],
   "source": [
    "client.db_open(\"gods\", \"root\", ROOT_PASSWORD)"
   ]
  },
  {
   "cell_type": "markdown",
   "metadata": {},
   "source": [
    "**Q:** You should now be able to launch OrientDB queries through the Python client with the [command()](http://orientdb.com/docs/last/PyOrient-Client-Command.html) function. \n",
    "\n",
    "You should think of OrientDB as a Graph-Document database for the following questions. Each vertex and edge will contain information on it inside a JSON document.\n",
    "\n",
    "Create a new Vertex with content `{name: 'Zeus', symbol: 'thunder'}`. The [CREATE VERTEX : Create a vertex using JSON content](http://orientdb.com/docs/last/SQL-Create-Vertex.html) doc page should help you."
   ]
  },
  {
   "cell_type": "code",
   "execution_count": 58,
   "metadata": {},
   "outputs": [
    {
     "name": "stdout",
     "output_type": "stream",
     "text": [
      "Vertex created: [<pyorient.otypes.OrientRecord object at 0x0000028575641640>]\n"
     ]
    }
   ],
   "source": [
    "vertex_content = {\n",
    "    \"name\": \"Zeus\",\n",
    "    \"symbol\": \"thunder\"\n",
    "}\n",
    "command = \"CREATE VERTEX V CONTENT {}\".format(vertex_content)\n",
    "\n",
    "# Execute the command to create the vertex\n",
    "result = client.command(command)\n",
    "\n",
    "# Print the result to confirm creation\n",
    "print(f\"Vertex created: {result}\")"
   ]
  },
  {
   "cell_type": "markdown",
   "metadata": {},
   "source": [
    "You have created a VERTEX in the previous question. The VERTEX is a [class](https://orientdb.com/docs/last/Tutorial-Classes.html) of OrientDB which defines a record that can be linked to others through EDGE instances.\n",
    "\n",
    "You can find all VERTEX created in the database with a SQL command on the `V` table, like `SELECT * FROM V`. \n",
    "\n",
    "**Q:** Print all current vertices in `gods`, it should only have `Zeus` though for now."
   ]
  },
  {
   "cell_type": "code",
   "execution_count": 59,
   "metadata": {},
   "outputs": [
    {
     "name": "stdout",
     "output_type": "stream",
     "text": [
      "Current vertices in the 'gods' database:\n",
      "{'@V':{'name': 'Zeus', 'symbol': 'thunder'},'version':1,'rid':'#9:0'}\n"
     ]
    }
   ],
   "source": [
    "# Execute the SQL command to retrieve all vertices\n",
    "query = \"SELECT * FROM V\"\n",
    "result = client.command(query)\n",
    "\n",
    "# Print the result, which will contain all the vertices\n",
    "print(\"Current vertices in the 'gods' database:\")\n",
    "for vertex in result:\n",
    "    print(vertex)\n"
   ]
  },
  {
   "cell_type": "markdown",
   "metadata": {},
   "source": [
    "**Q:** Create new vertices with content : \n",
    "```\n",
    "{name:Héra, symbol:tiara}\n",
    "{name:Poséidon, symbol:trident}\n",
    "{name:Athena, symbol:helmet}\n",
    "{name:Arès, symbol:weapons} \n",
    "```"
   ]
  },
  {
   "cell_type": "code",
   "execution_count": 60,
   "metadata": {},
   "outputs": [
    {
     "name": "stdout",
     "output_type": "stream",
     "text": [
      "Created vertex: Héra\n",
      "Created vertex: Poséidon\n",
      "Created vertex: Athena\n",
      "Created vertex: Arès\n"
     ]
    }
   ],
   "source": [
    "# Create new vertices with the given content\n",
    "vertices_data = [\n",
    "    {\"name\": \"Héra\", \"symbol\": \"tiara\"},\n",
    "    {\"name\": \"Poséidon\", \"symbol\": \"trident\"},\n",
    "    {\"name\": \"Athena\", \"symbol\": \"helmet\"},\n",
    "    {\"name\": \"Arès\", \"symbol\": \"weapons\"}\n",
    "]\n",
    "\n",
    "# Create each vertex\n",
    "for data in vertices_data:\n",
    "    query = f\"CREATE VERTEX V SET name = '{data['name']}', symbol = '{data['symbol']}'\"\n",
    "    result = client.command(query)\n",
    "    print(f\"Created vertex: {data['name']}\")"
   ]
  },
  {
   "cell_type": "markdown",
   "metadata": {},
   "source": [
    "**Q:** Display all vertices with name = `Arès`"
   ]
  },
  {
   "cell_type": "code",
   "execution_count": 61,
   "metadata": {},
   "outputs": [
    {
     "name": "stdout",
     "output_type": "stream",
     "text": [
      "[<pyorient.otypes.OrientRecord object at 0x0000028575636E10>]\n"
     ]
    }
   ],
   "source": [
    "print(client.command(\"SELECT * FROM V WHERE name = 'Arès'\"))"
   ]
  },
  {
   "cell_type": "markdown",
   "metadata": {},
   "source": [
    "**Q:** Create an EDGE from `Zeus` to `Poséidon` with the content `{kind: 'sibling'}"
   ]
  },
  {
   "cell_type": "code",
   "execution_count": 62,
   "metadata": {},
   "outputs": [
    {
     "name": "stdout",
     "output_type": "stream",
     "text": [
      "[<pyorient.otypes.OrientRecord object at 0x00000285756341A0>]\n"
     ]
    }
   ],
   "source": [
    "result = client.command(\"CREATE EDGE E FROM (SELECT FROM V WHERE name = 'Zeus') TO (SELECT FROM V WHERE name = 'Poséidon') SET kind = 'sibling'\")\n",
    "print(result)"
   ]
  },
  {
   "cell_type": "markdown",
   "metadata": {},
   "source": [
    "**Q:** Redisplay all vertices, discuss."
   ]
  },
  {
   "cell_type": "code",
   "execution_count": 63,
   "metadata": {},
   "outputs": [
    {
     "name": "stdout",
     "output_type": "stream",
     "text": [
      "Current vertices in the 'gods' database:\n",
      "{'@V':{'name': 'Zeus', 'symbol': 'thunder', 'out_': <pyorient.otypes.OrientBinaryObject object at 0x00000285755F03B0>},'version':2,'rid':'#9:0'}\n",
      "{'@V':{'name': 'Héra', 'symbol': 'tiara'},'version':1,'rid':'#10:0'}\n",
      "{'@V':{'name': 'Poséidon', 'symbol': 'trident', 'in_': <pyorient.otypes.OrientBinaryObject object at 0x00000285756D31D0>},'version':2,'rid':'#11:0'}\n",
      "{'@V':{'name': 'Athena', 'symbol': 'helmet'},'version':1,'rid':'#12:0'}\n",
      "{'@V':{'name': 'Arès', 'symbol': 'weapons'},'version':1,'rid':'#13:0'}\n"
     ]
    }
   ],
   "source": [
    "print(\"Current vertices in the 'gods' database:\")\n",
    "for vertex in client.command(\"SELECT * FROM V\"):\n",
    "    print(vertex)\n",
    "    "
   ]
  },
  {
   "cell_type": "markdown",
   "metadata": {},
   "source": [
    "**Q:** Display all edges. They are contained in the class `E`"
   ]
  },
  {
   "cell_type": "code",
   "execution_count": 64,
   "metadata": {},
   "outputs": [
    {
     "name": "stdout",
     "output_type": "stream",
     "text": [
      "Current edges in the 'gods' database:\n",
      "{'@E':{'kind': 'sibling', 'out': <pyorient.otypes.OrientRecordLink object at 0x0000028575634740>, 'in': <pyorient.otypes.OrientRecordLink object at 0x00000285756D2120>},'version':1,'rid':'#17:0'}\n"
     ]
    }
   ],
   "source": [
    "print(\"Current edges in the 'gods' database:\")\n",
    "for edge in client.command(\"SELECT * FROM E\"):\n",
    "    print(edge)"
   ]
  },
  {
   "cell_type": "markdown",
   "metadata": {},
   "source": [
    "Two fields on vertices have appeared, containing the outgoing (out_) and incoming (in_) links.\n",
    "\n",
    "At the edge level, two fields point to the original (out) and destination (in) vertices.\n",
    "\n",
    "**Q:** Lets create some more edges :\n",
    "\n",
    "* Zeus > Héra (sibling)\n",
    "* Zeus > Arès (father)\n",
    "* Zeus > Athena (father)\n",
    "* Héra > Arès (mother)\n",
    "* Héra > Zeus (sibling)\n",
    "* Poséidon > Zeus (sibling)\n",
    "\n",
    "_Hint 1 :_ check [the CREATE EDGE doc page](http://orientdb.com/docs/last/SQL-Create-Edge.html) to find an example for creating edges on vertices using subqueries so you can run queries to fetch the vertices before creating an edge in between.\n",
    "\n",
    "_Hint 2 :_ after you have found the command to create edges between vertices with sub-queries, you should be well-versed enough in Python to create a list of all edges in the question, and loop the command on each element of the list to create all edges in one go =)"
   ]
  },
  {
   "cell_type": "code",
   "execution_count": 65,
   "metadata": {},
   "outputs": [
    {
     "name": "stdout",
     "output_type": "stream",
     "text": [
      "Created edge: Zeus > Héra\n",
      "Created edge: Zeus > Arès\n"
     ]
    },
    {
     "name": "stdout",
     "output_type": "stream",
     "text": [
      "Created edge: Zeus > Athena\n",
      "Created edge: Héra > Arès\n",
      "Created edge: Héra > Zeus\n",
      "Created edge: Poséidon > Zeus\n"
     ]
    }
   ],
   "source": [
    "edges_data = [\n",
    "    {\"from\": \"Zeus\", \"to\": \"Héra\", \"kind\": \"sibling\"},\n",
    "    {\"from\": \"Zeus\", \"to\": \"Arès\", \"kind\": \"father\"},\n",
    "    {\"from\": \"Zeus\", \"to\": \"Athena\", \"kind\": \"father\"},\n",
    "    {\"from\": \"Héra\", \"to\": \"Arès\", \"kind\": \"mother\"},\n",
    "    {\"from\": \"Héra\", \"to\": \"Zeus\", \"kind\": \"sibling\"},\n",
    "    {\"from\": \"Poséidon\", \"to\": \"Zeus\", \"kind\": \"sibling\"}\n",
    "]\n",
    "\n",
    "for data in edges_data:\n",
    "    query = f\"CREATE EDGE E FROM (SELECT FROM V WHERE name = '{data['from']}') TO (SELECT FROM V WHERE name = '{data['to']}') SET kind = '{data['kind']}'\"\n",
    "    result = client.command(query)\n",
    "    print(f\"Created edge: {data['from']} > {data['to']}\")\n",
    "    \n",
    "    "
   ]
  },
  {
   "cell_type": "markdown",
   "metadata": {},
   "source": [
    "### Looking for data"
   ]
  },
  {
   "cell_type": "markdown",
   "metadata": {},
   "source": [
    "**Q:** Using [out()](http://orientdb.com/docs/last/Tutorial-Working-with-graphs.html#querying-graphs) function, display all vertices connected and outgoing from Zeus.\n",
    "\n",
    "You should use the EXPAND() special function to transform the vertex collection in the result-set by expanding it, making the results more readable."
   ]
  },
  {
   "cell_type": "code",
   "execution_count": 66,
   "metadata": {},
   "outputs": [
    {
     "name": "stdout",
     "output_type": "stream",
     "text": [
      "Vertices connected and outgoing from Zeus:\n",
      "{'@V':{'name': 'Poséidon', 'symbol': 'trident', 'in_': <pyorient.otypes.OrientBinaryObject object at 0x000002857544CBF0>, 'out_': <pyorient.otypes.OrientBinaryObject object at 0x000002857544C890>},'version':3,'rid':'#11:0'}\n",
      "{'@V':{'out_': <pyorient.otypes.OrientBinaryObject object at 0x00000285756D1730>, 'name': 'Héra', 'symbol': 'tiara', 'in_': <pyorient.otypes.OrientBinaryObject object at 0x00000285756D2600>},'version':4,'rid':'#10:0'}\n",
      "{'@V':{'in_': <pyorient.otypes.OrientBinaryObject object at 0x00000285756D3860>, 'name': 'Arès', 'symbol': 'weapons'},'version':3,'rid':'#13:0'}\n",
      "{'@V':{'name': 'Athena', 'symbol': 'helmet', 'in_': <pyorient.otypes.OrientBinaryObject object at 0x00000285756D3D70>},'version':2,'rid':'#12:0'}\n"
     ]
    }
   ],
   "source": [
    "query = \"SELECT expand(out()) FROM V WHERE name = 'Zeus'\"\n",
    "result = client.command(query)\n",
    "\n",
    "print(\"Vertices connected and outgoing from Zeus:\")\n",
    "for vertex in result:\n",
    "    print(vertex)"
   ]
  },
  {
   "cell_type": "markdown",
   "metadata": {},
   "source": [
    "**Q:** Display all vertices which got a father (the vertices which are the destination of an arc whose kind attribute is father).\n",
    "\n",
    "_Hint: You can notice that we use the field `in` the arc, and not the function `in()` which applies to vertices._"
   ]
  },
  {
   "cell_type": "code",
   "execution_count": 67,
   "metadata": {},
   "outputs": [
    {
     "name": "stdout",
     "output_type": "stream",
     "text": [
      "Vertices with a father:\n",
      "{'@V':{'in_': <pyorient.otypes.OrientBinaryObject object at 0x00000285755F2660>, 'name': 'Arès', 'symbol': 'weapons'},'version':3,'rid':'#13:0'}\n",
      "{'@V':{'name': 'Athena', 'symbol': 'helmet', 'in_': <pyorient.otypes.OrientBinaryObject object at 0x00000285756D1D60>},'version':2,'rid':'#12:0'}\n"
     ]
    }
   ],
   "source": [
    "result = client.command(\"SELECT expand(in) FROM E where kind = 'father'\")\n",
    "\n",
    "print(\"Vertices with a father:\")\n",
    "for vertex in result:\n",
    "    print(vertex)"
   ]
  },
  {
   "cell_type": "markdown",
   "metadata": {},
   "source": [
    "**Q:** As in SQL, the operator `in` used in a clause `where` allows to restrict the possible values with an embedded query _(where ... in (select ...))_. \n",
    "\n",
    "Display the mothers, by displaying the vertices where an outgoing arc is part of the arcs where kind is a mother."
   ]
  },
  {
   "cell_type": "code",
   "execution_count": 68,
   "metadata": {},
   "outputs": [
    {
     "name": "stdout",
     "output_type": "stream",
     "text": [
      "Vertices with a mother:\n",
      "{'@V':{'in_': <pyorient.otypes.OrientBinaryObject object at 0x0000028575640CB0>, 'name': 'Arès', 'symbol': 'weapons'},'version':3,'rid':'#13:0'}\n"
     ]
    }
   ],
   "source": [
    "print(\"Vertices with a mother:\")\n",
    "result = client.command(\"SELECT expand(in) FROM E where kind = 'mother'\")\n",
    "for vertex in result:\n",
    "    print(vertex)"
   ]
  },
  {
   "cell_type": "markdown",
   "metadata": {},
   "source": [
    "**Q:** Display the brothers and sisters of Zeus (the destination summits of an arc whose kind is sibling and whose original summit is Zeus)."
   ]
  },
  {
   "cell_type": "code",
   "execution_count": 69,
   "metadata": {},
   "outputs": [
    {
     "name": "stdout",
     "output_type": "stream",
     "text": [
      "Brothers and sisters of Zeus:\n"
     ]
    }
   ],
   "source": [
    "#*Q:** Display the brothers and sisters of Zeus (the destination summits of an arc whose kind is sibling and whose original summit is Zeus)\n",
    "query = \"SELECT expand(out()) FROM (SELECT expand(out('sibling')) FROM V WHERE name = 'Zeus')\"\n",
    "result = client.command(query)\n",
    "\n",
    "print(\"Brothers and sisters of Zeus:\")\n",
    "for vertex in result:\n",
    "    print(vertex)"
   ]
  },
  {
   "cell_type": "code",
   "execution_count": 70,
   "metadata": {},
   "outputs": [
    {
     "name": "stdout",
     "output_type": "stream",
     "text": [
      "Brothers and sisters of Zeus:\n",
      "{'@V':{'out_': <pyorient.otypes.OrientBinaryObject object at 0x00000285756362D0>, 'in_': <pyorient.otypes.OrientBinaryObject object at 0x0000028575634080>, 'name': 'Zeus', 'symbol': 'thunder'},'version':7,'rid':'#9:0'}\n",
      "{'@V':{'in_': <pyorient.otypes.OrientBinaryObject object at 0x00000285756D2690>, 'name': 'Arès', 'symbol': 'weapons'},'version':3,'rid':'#13:0'}\n",
      "{'@V':{'out_': <pyorient.otypes.OrientBinaryObject object at 0x00000285756D2EA0>, 'in_': <pyorient.otypes.OrientBinaryObject object at 0x00000285756D0A40>, 'name': 'Zeus', 'symbol': 'thunder'},'version':7,'rid':'#9:0'}\n"
     ]
    }
   ],
   "source": [
    "#Display the brothers and sisters of Zeus\n",
    "query = \"SELECT expand(out()) FROM (SELECT expand(out(sibling)) FROM V WHERE name = 'Zeus') WHERE @class = 'V'\"\n",
    "result = client.command(query)\n",
    "\n",
    "print(\"Brothers and sisters of Zeus:\")\n",
    "for vertex in result:\n",
    "    print(vertex)"
   ]
  },
  {
   "cell_type": "markdown",
   "metadata": {},
   "source": [
    "## Modeling a Product Recommendation System"
   ]
  },
  {
   "cell_type": "markdown",
   "metadata": {},
   "source": [
    "You are currently modeling the data of a product recommendation system with OrientDB.\n",
    "\n",
    "The main purpose of such a system is to answer the question \"which products were purchased by their people who purchased product X? »\n",
    "\n",
    "Purchased products have only one name field. They are purchased by people who have a nickname.\n",
    "\n",
    "When a person buys a product, the date of purchase is stored. \n",
    "\n",
    "Instead of working with \"anonymous\" vertices and arcs, you will use classes. The `create class` command allows you to create custom classes.\n",
    "\n",
    "The vertex classes must extend V, the arc classes must extend E."
   ]
  },
  {
   "cell_type": "markdown",
   "metadata": {},
   "source": [
    "**Q:** Create an `eCommerce` database, and the necessary classes to model the system.\n",
    "\n",
    "PS : you can view all classes in the database with :\n",
    "\n",
    "```python\n",
    "for name in client.command(\"SELECT name FROM (SELECT expand(classes) FROM metadata:schema)\"):\n",
    "    print(name)\n",
    "```"
   ]
  },
  {
   "cell_type": "code",
   "execution_count": 71,
   "metadata": {},
   "outputs": [
    {
     "name": "stdout",
     "output_type": "stream",
     "text": [
      "{{'name': 'Purchase'},'version':0,'rid':'#-2:0'}\n",
      "{{'name': 'Person'},'version':0,'rid':'#-2:1'}\n",
      "{{'name': 'ORestricted'},'version':0,'rid':'#-2:2'}\n",
      "{{'name': 'OTriggered'},'version':0,'rid':'#-2:3'}\n",
      "{{'name': 'OIdentity'},'version':0,'rid':'#-2:4'}\n",
      "{{'name': 'OFunction'},'version':0,'rid':'#-2:5'}\n",
      "{{'name': 'V'},'version':0,'rid':'#-2:6'}\n",
      "{{'name': 'OSchedule'},'version':0,'rid':'#-2:7'}\n",
      "{{'name': 'E'},'version':0,'rid':'#-2:8'}\n",
      "{{'name': 'OSequence'},'version':0,'rid':'#-2:9'}\n",
      "{{'name': 'OUser'},'version':0,'rid':'#-2:10'}\n",
      "{{'name': 'ORole'},'version':0,'rid':'#-2:11'}\n",
      "{{'name': 'Product'},'version':0,'rid':'#-2:12'}\n"
     ]
    }
   ],
   "source": [
    "client.db_create(\"eCommerce\", pyorient.DB_TYPE_GRAPH, pyorient.STORAGE_TYPE_MEMORY)\n",
    "\n",
    "client.db_open(\"eCommerce\", \"root\", ROOT_PASSWORD)\n",
    "\n",
    "client.command(\"CREATE CLASS Product EXTENDS V\")\n",
    "client.command(\"CREATE CLASS Person EXTENDS V\")\n",
    "client.command(\"CREATE CLASS Purchase EXTENDS E\")\n",
    "\n",
    "for name in client.command(\"SELECT name FROM (SELECT expand(classes) FROM metadata:schema)\"):\n",
    "   print(name)"
   ]
  },
  {
   "cell_type": "markdown",
   "metadata": {},
   "source": [
    "**Q:** Create the following products: `spaghetti`, `bolognese sauce`, `cheese`, `apple`."
   ]
  },
  {
   "cell_type": "code",
   "execution_count": 72,
   "metadata": {},
   "outputs": [
    {
     "name": "stdout",
     "output_type": "stream",
     "text": [
      "Created product: spaghetti\n",
      "Created product: bolognese sauce\n",
      "Created product: cheese\n",
      "Created product: apple\n"
     ]
    }
   ],
   "source": [
    "# Create the products\n",
    "products = [\"spaghetti\", \"bolognese sauce\", \"cheese\", \"apple\"]\n",
    "for product in products:\n",
    "    query = f\"CREATE VERTEX Product SET name = '{product}'\"\n",
    "    result = client.command(query)\n",
    "    print(f\"Created product: {product}\")"
   ]
  },
  {
   "cell_type": "markdown",
   "metadata": {},
   "source": [
    "**Q:** Create the following people: `peter`, `meredith`."
   ]
  },
  {
   "cell_type": "code",
   "execution_count": 73,
   "metadata": {},
   "outputs": [
    {
     "name": "stdout",
     "output_type": "stream",
     "text": [
      "Created person: peter\n",
      "Created person: meredith\n"
     ]
    }
   ],
   "source": [
    "# Create the people\n",
    "people = [\"peter\", \"meredith\"]\n",
    "for person in people:\n",
    "    query = f\"CREATE VERTEX Person SET nickname = '{person}'\"\n",
    "    result = client.command(query)\n",
    "    print(f\"Created person: {person}\")"
   ]
  },
  {
   "cell_type": "markdown",
   "metadata": {},
   "source": [
    "**Q:** Create the following purchases: \n",
    "- peter > spaghetti + cheese on 20/01/2016 \n",
    "- meredith > cheese + apple + bolognese sauce on 22/01/2016\n",
    "- peter > spaghetti + bolognese sauce on 27/01/2016\n"
   ]
  },
  {
   "cell_type": "code",
   "execution_count": 74,
   "metadata": {},
   "outputs": [
    {
     "name": "stdout",
     "output_type": "stream",
     "text": [
      "Created purchase: peter > spaghetti on 20/01/2016\n",
      "Created purchase: peter > cheese on 20/01/2016\n",
      "Created purchase: meredith > cheese on 22/01/2016\n",
      "Created purchase: meredith > apple on 22/01/2016\n"
     ]
    },
    {
     "name": "stdout",
     "output_type": "stream",
     "text": [
      "Created purchase: meredith > bolognese sauce on 22/01/2016\n",
      "Created purchase: peter > spaghetti on 27/01/2016\n",
      "Created purchase: peter > bolognese sauce on 27/01/2016\n"
     ]
    }
   ],
   "source": [
    "# Create the purchases\n",
    "purchases = [\n",
    "    {\"person\": \"peter\", \"products\": [\"spaghetti\", \"cheese\"], \"date\": \"20/01/2016\"},\n",
    "    {\"person\": \"meredith\", \"products\": [\"cheese\", \"apple\", \"bolognese sauce\"], \"date\": \"22/01/2016\"},\n",
    "    {\"person\": \"peter\", \"products\": [\"spaghetti\", \"bolognese sauce\"], \"date\": \"27/01/2016\"}\n",
    "]\n",
    "\n",
    "for purchase in purchases:\n",
    "    person = purchase[\"person\"]\n",
    "    products = purchase[\"products\"]\n",
    "    date = purchase[\"date\"]\n",
    "    for product in products:\n",
    "        query = f\"CREATE EDGE Purchase FROM (SELECT FROM Person WHERE nickname = '{person}') TO (SELECT FROM Product WHERE name = '{product}') SET date = '{date}'\"\n",
    "        result = client.command(query)\n",
    "        print(f\"Created purchase: {person} > {product} on {date}\")"
   ]
  },
  {
   "cell_type": "code",
   "execution_count": 75,
   "metadata": {},
   "outputs": [
    {
     "name": "stdout",
     "output_type": "stream",
     "text": [
      "Purchases:\n",
      "{'@Product':{'in_Purchase': <pyorient.otypes.OrientBinaryObject object at 0x0000028575634080>, 'name': 'spaghetti'},'version':3,'rid':'#25:0'}\n",
      "{'@Product':{'in_Purchase': <pyorient.otypes.OrientBinaryObject object at 0x00000285756D3A10>, 'name': 'cheese'},'version':3,'rid':'#27:0'}\n",
      "{'@Product':{'in_Purchase': <pyorient.otypes.OrientBinaryObject object at 0x0000028575641400>, 'name': 'spaghetti'},'version':3,'rid':'#25:0'}\n",
      "{'@Product':{'in_Purchase': <pyorient.otypes.OrientBinaryObject object at 0x0000028575641490>, 'name': 'bolognese sauce'},'version':3,'rid':'#26:0'}\n",
      "{'@Product':{'in_Purchase': <pyorient.otypes.OrientBinaryObject object at 0x0000028575643620>, 'name': 'cheese'},'version':3,'rid':'#27:0'}\n",
      "{'@Product':{'name': 'apple', 'in_Purchase': <pyorient.otypes.OrientBinaryObject object at 0x0000028575647E60>},'version':2,'rid':'#28:0'}\n",
      "{'@Product':{'in_Purchase': <pyorient.otypes.OrientBinaryObject object at 0x0000028575647F80>, 'name': 'bolognese sauce'},'version':3,'rid':'#26:0'}\n"
     ]
    }
   ],
   "source": [
    "# Display the purchases\n",
    "query = \"SELECT expand(out()) FROM Person\"\n",
    "result = client.command(query)\n",
    "\n",
    "print(\"Purchases:\")\n",
    "for person in result:\n",
    "    print(person)"
   ]
  },
  {
   "cell_type": "markdown",
   "metadata": {},
   "source": [
    "**Q:** Who bought Bolognese sauce?"
   ]
  },
  {
   "cell_type": "code",
   "execution_count": 76,
   "metadata": {},
   "outputs": [
    {
     "name": "stdout",
     "output_type": "stream",
     "text": [
      "People who bought Bolognese sauce:\n",
      "{'@Person':{'out_Purchase': <pyorient.otypes.OrientBinaryObject object at 0x00000285756D1340>, 'nickname': 'meredith'},'version':4,'rid':'#34:0'}\n",
      "{'@Person':{'out_Purchase': <pyorient.otypes.OrientBinaryObject object at 0x0000028575647DD0>, 'nickname': 'peter'},'version':5,'rid':'#33:0'}\n"
     ]
    }
   ],
   "source": [
    "query = \"SELECT expand(in()) FROM Product WHERE name = 'bolognese sauce'\"\n",
    "result = client.command(query)\n",
    "\n",
    "print(\"People who bought Bolognese sauce:\")\n",
    "for person in result:\n",
    "    print(person)"
   ]
  },
  {
   "cell_type": "markdown",
   "metadata": {},
   "source": [
    "**Q:** It is possible to link the `out` and `in` navigation functions. What products are purchased with Bolognese sauce? "
   ]
  },
  {
   "cell_type": "code",
   "execution_count": 77,
   "metadata": {},
   "outputs": [
    {
     "name": "stdout",
     "output_type": "stream",
     "text": [
      "Products purchased with Bolognese sauce:\n",
      "{'@Product':{'in_Purchase': <pyorient.otypes.OrientBinaryObject object at 0x0000028575643050>, 'name': 'cheese'},'version':3,'rid':'#27:0'}\n",
      "{'@Product':{'name': 'apple', 'in_Purchase': <pyorient.otypes.OrientBinaryObject object at 0x00000285756D1C10>},'version':2,'rid':'#28:0'}\n",
      "{'@Product':{'in_Purchase': <pyorient.otypes.OrientBinaryObject object at 0x00000285756D38C0>, 'name': 'bolognese sauce'},'version':3,'rid':'#26:0'}\n",
      "{'@Product':{'in_Purchase': <pyorient.otypes.OrientBinaryObject object at 0x00000285756D2D50>, 'name': 'spaghetti'},'version':3,'rid':'#25:0'}\n",
      "{'@Product':{'in_Purchase': <pyorient.otypes.OrientBinaryObject object at 0x00000285756D3A10>, 'name': 'cheese'},'version':3,'rid':'#27:0'}\n",
      "{'@Product':{'in_Purchase': <pyorient.otypes.OrientBinaryObject object at 0x00000285756474A0>, 'name': 'spaghetti'},'version':3,'rid':'#25:0'}\n",
      "{'@Product':{'in_Purchase': <pyorient.otypes.OrientBinaryObject object at 0x0000028575646DB0>, 'name': 'bolognese sauce'},'version':3,'rid':'#26:0'}\n"
     ]
    }
   ],
   "source": [
    "query = \"SELECT expand(in().out()) FROM Product WHERE name = 'bolognese sauce'\"\n",
    "result = client.command(query)\n",
    "\n",
    "print(\"Products purchased with Bolognese sauce:\")\n",
    "for product in result:\n",
    "    print(product)"
   ]
  },
  {
   "cell_type": "markdown",
   "metadata": {},
   "source": [
    "## Postquisites"
   ]
  },
  {
   "cell_type": "markdown",
   "metadata": {},
   "source": [
    "Since we create databases in memory, they get destroyed on server shutdown."
   ]
  }
 ],
 "metadata": {
  "kernelspec": {
   "display_name": "nosql",
   "language": "python",
   "name": "python3"
  },
  "language_info": {
   "codemirror_mode": {
    "name": "ipython",
    "version": 3
   },
   "file_extension": ".py",
   "mimetype": "text/x-python",
   "name": "python",
   "nbconvert_exporter": "python",
   "pygments_lexer": "ipython3",
   "version": "3.12.8"
  }
 },
 "nbformat": 4,
 "nbformat_minor": 2
}
